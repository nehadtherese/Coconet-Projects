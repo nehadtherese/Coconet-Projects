{
 "cells": [
  {
   "cell_type": "markdown",
   "id": "a8573613-7613-4d6c-bc51-e101c9a4a6eb",
   "metadata": {},
   "source": [
    "### <center>Basics of Python"
   ]
  },
  {
   "cell_type": "code",
   "execution_count": 3,
   "id": "6e9991c2-49b4-4da3-9169-1f5eb8fef059",
   "metadata": {},
   "outputs": [],
   "source": [
    "MyName = \"Neha\""
   ]
  },
  {
   "cell_type": "code",
   "execution_count": 4,
   "id": "03ae3e09-828e-4e97-bce5-d10f64565792",
   "metadata": {},
   "outputs": [
    {
     "data": {
      "text/plain": [
       "'Neha'"
      ]
     },
     "execution_count": 4,
     "metadata": {},
     "output_type": "execute_result"
    }
   ],
   "source": [
    "MyName"
   ]
  },
  {
   "cell_type": "code",
   "execution_count": 9,
   "id": "d1f0cfa4-c8c6-4584-9160-073963521c91",
   "metadata": {},
   "outputs": [
    {
     "name": "stdout",
     "output_type": "stream",
     "text": [
      "Neha\n"
     ]
    }
   ],
   "source": [
    "print(MyName)"
   ]
  },
  {
   "cell_type": "code",
   "execution_count": 10,
   "id": "c5074331-f9c9-4ce8-9473-c682a8941d12",
   "metadata": {},
   "outputs": [],
   "source": [
    "mynumber = 10"
   ]
  },
  {
   "cell_type": "code",
   "execution_count": 11,
   "id": "3d3f2f48-18a2-4d69-b3ae-ecd96968546b",
   "metadata": {},
   "outputs": [
    {
     "data": {
      "text/plain": [
       "10"
      ]
     },
     "execution_count": 11,
     "metadata": {},
     "output_type": "execute_result"
    }
   ],
   "source": [
    "mynumber"
   ]
  },
  {
   "cell_type": "code",
   "execution_count": 12,
   "id": "8b6b45f9-d491-48e6-9136-ba43effe2fc4",
   "metadata": {},
   "outputs": [
    {
     "data": {
      "text/plain": [
       "int"
      ]
     },
     "execution_count": 12,
     "metadata": {},
     "output_type": "execute_result"
    }
   ],
   "source": [
    "type(mynumber)"
   ]
  },
  {
   "cell_type": "code",
   "execution_count": 13,
   "id": "e19ce4bb-d35d-4742-885c-91498f1a9c7f",
   "metadata": {},
   "outputs": [],
   "source": [
    "myfloat = 0.76509"
   ]
  },
  {
   "cell_type": "code",
   "execution_count": 14,
   "id": "aed4ca06-5d6f-40ca-9c22-ef9ff71c1a96",
   "metadata": {},
   "outputs": [
    {
     "data": {
      "text/plain": [
       "float"
      ]
     },
     "execution_count": 14,
     "metadata": {},
     "output_type": "execute_result"
    }
   ],
   "source": [
    "type(myfloat)"
   ]
  },
  {
   "cell_type": "code",
   "execution_count": 15,
   "id": "6bebe098-b4be-4eaf-b735-62b7236b36e7",
   "metadata": {},
   "outputs": [],
   "source": [
    "mycomplexnumber = complex(5,7)"
   ]
  },
  {
   "cell_type": "code",
   "execution_count": 16,
   "id": "6dcc252b-d0a3-46ff-8288-3203dac4123b",
   "metadata": {},
   "outputs": [
    {
     "data": {
      "text/plain": [
       "(5+7j)"
      ]
     },
     "execution_count": 16,
     "metadata": {},
     "output_type": "execute_result"
    }
   ],
   "source": [
    "mycomplexnumber"
   ]
  },
  {
   "cell_type": "code",
   "execution_count": 17,
   "id": "f3f466cc-9f0b-4ca8-ae4a-df3f0e04ca18",
   "metadata": {},
   "outputs": [
    {
     "data": {
      "text/plain": [
       "complex"
      ]
     },
     "execution_count": 17,
     "metadata": {},
     "output_type": "execute_result"
    }
   ],
   "source": [
    "type(mycomplexnumber)"
   ]
  },
  {
   "cell_type": "code",
   "execution_count": 18,
   "id": "5be282b0-6c89-435b-bb7b-8b3046adbd58",
   "metadata": {},
   "outputs": [],
   "source": [
    "mylist = {1,2,3,4,5,6}"
   ]
  },
  {
   "cell_type": "code",
   "execution_count": 19,
   "id": "34a8ee5a-0a15-4dc0-b1c4-3cef22296a61",
   "metadata": {},
   "outputs": [
    {
     "data": {
      "text/plain": [
       "set"
      ]
     },
     "execution_count": 19,
     "metadata": {},
     "output_type": "execute_result"
    }
   ],
   "source": [
    "type(mylist)"
   ]
  },
  {
   "cell_type": "code",
   "execution_count": 20,
   "id": "10ee48ff-2833-413b-b57c-322e36dec395",
   "metadata": {},
   "outputs": [],
   "source": [
    "mytext = \"Hi\""
   ]
  },
  {
   "cell_type": "code",
   "execution_count": 21,
   "id": "2ae3703d-7f25-48f6-b453-8e6ff59a43e9",
   "metadata": {},
   "outputs": [
    {
     "data": {
      "text/plain": [
       "str"
      ]
     },
     "execution_count": 21,
     "metadata": {},
     "output_type": "execute_result"
    }
   ],
   "source": [
    "type(mytext)"
   ]
  },
  {
   "cell_type": "code",
   "execution_count": 22,
   "id": "9365609d-2c30-45fc-bb47-6c61966a6157",
   "metadata": {},
   "outputs": [
    {
     "name": "stdout",
     "output_type": "stream",
     "text": [
      "Hi\n"
     ]
    }
   ],
   "source": [
    "print(mytext)"
   ]
  },
  {
   "cell_type": "code",
   "execution_count": 23,
   "id": "486d7aa5-1ce5-49c0-b720-dbb26bd80039",
   "metadata": {},
   "outputs": [],
   "source": [
    "myname = \"Aleena\""
   ]
  },
  {
   "cell_type": "code",
   "execution_count": 24,
   "id": "769d2675-56f1-4a13-9b6b-c1f2166c38d4",
   "metadata": {},
   "outputs": [
    {
     "data": {
      "text/plain": [
       "'Aleena'"
      ]
     },
     "execution_count": 24,
     "metadata": {},
     "output_type": "execute_result"
    }
   ],
   "source": [
    "myname"
   ]
  },
  {
   "cell_type": "code",
   "execution_count": 25,
   "id": "40bbf4f9-ea09-43a2-8950-2bf5460ff64d",
   "metadata": {},
   "outputs": [
    {
     "name": "stdout",
     "output_type": "stream",
     "text": [
      "Aleena\n"
     ]
    }
   ],
   "source": [
    "print(myname)"
   ]
  },
  {
   "cell_type": "code",
   "execution_count": null,
   "id": "05c8deb3-38b3-43e6-ad52-b9253e7f162d",
   "metadata": {},
   "outputs": [],
   "source": []
  }
 ],
 "metadata": {
  "kernelspec": {
   "display_name": "Python [conda env:base] *",
   "language": "python",
   "name": "conda-base-py"
  },
  "language_info": {
   "codemirror_mode": {
    "name": "ipython",
    "version": 3
   },
   "file_extension": ".py",
   "mimetype": "text/x-python",
   "name": "python",
   "nbconvert_exporter": "python",
   "pygments_lexer": "ipython3",
   "version": "3.13.5"
  }
 },
 "nbformat": 4,
 "nbformat_minor": 5
}
